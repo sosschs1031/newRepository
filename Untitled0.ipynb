{
  "nbformat": 4,
  "nbformat_minor": 0,
  "metadata": {
    "colab": {
      "name": "Untitled0.ipynb",
      "provenance": [],
      "authorship_tag": "ABX9TyMrcnv1PJThs4CgiVpRuodi",
      "include_colab_link": true
    },
    "kernelspec": {
      "name": "python3",
      "display_name": "Python 3"
    },
    "language_info": {
      "name": "python"
    }
  },
  "cells": [
    {
      "cell_type": "markdown",
      "metadata": {
        "id": "view-in-github",
        "colab_type": "text"
      },
      "source": [
        "<a href=\"https://colab.research.google.com/github/sosschs1031/newRepository/blob/main/Untitled0.ipynb\" target=\"_parent\"><img src=\"https://colab.research.google.com/assets/colab-badge.svg\" alt=\"Open In Colab\"/></a>"
      ]
    },
    {
      "cell_type": "code",
      "metadata": {
        "colab": {
          "base_uri": "https://localhost:8080/"
        },
        "id": "NjS38lcpO4_P",
        "outputId": "31e09475-7aae-4c5e-c45a-2d7cc3e4a838"
      },
      "source": [
        "print(\"hello world!\")"
      ],
      "execution_count": 1,
      "outputs": [
        {
          "output_type": "stream",
          "name": "stdout",
          "text": [
            "hello world!\n"
          ]
        }
      ]
    },
    {
      "cell_type": "code",
      "metadata": {
        "colab": {
          "base_uri": "https://localhost:8080/"
        },
        "id": "UqutFxT1Wusf",
        "outputId": "a4cff36f-8e9d-43ef-8cce-0356d204864a"
      },
      "source": [
        "print(\"덕원고등학교 11월 6일 교육\")\n",
        "\n",
        "name = \"송혜경\"\n",
        "age = 20\n",
        "school = \"경북대학교\"\n",
        "\n",
        "print(f\"안녕하세요 저는 {name}입니다. 나이는 {age}살이고 {school}다닙ㄴㅣ당 ㅎㅎ\")\n",
        "print(\"점메추 받습니다. 언제든 환영\")"
      ],
      "execution_count": 3,
      "outputs": [
        {
          "output_type": "stream",
          "name": "stdout",
          "text": [
            "덕원고등학교 11월 6일 교육\n",
            "안녕하세요 저는 송혜경입니다. 나이는 20살이고 경북대학교다닙ㄴㅣ당 ㅎㅎ\n",
            "점메추 받습니다. 언제든 환영\n"
          ]
        }
      ]
    }
  ]
}